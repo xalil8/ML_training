{
 "cells": [
  {
   "cell_type": "code",
   "execution_count": 2,
   "metadata": {},
   "outputs": [],
   "source": [
    "import pandas as pd\n",
    "vaccine_list = pd.read_csv(\"C:/Users/halil/Desktop/data_science_questions/dataset.csv\")"
   ]
  },
  {
   "cell_type": "code",
   "execution_count": 9,
   "metadata": {},
   "outputs": [],
   "source": [
    "def get_country_list(vaccine_list):    \n",
    "    country_list =[]\n",
    "    name = None\n",
    "    for index in vaccine_list[\"country\"]:\n",
    "        if name != index:\n",
    "            country_list.append(index)\n",
    "        name = index\n",
    "    return country_list"
   ]
  },
  {
   "cell_type": "code",
   "execution_count": 28,
   "metadata": {},
   "outputs": [],
   "source": [
    "def daily_vaccination(data):\n",
    "    country_list = get_country_list(data)\n",
    "    average_list = []\n",
    "\n",
    "    for i in country_list:\n",
    "        sum = 0\n",
    "        names  = vaccine_list.loc[(vaccine_list[\"country\"] == i)]\n",
    "        for index, vaccine_numbers in enumerate(names[\"daily_vaccinations\"]):\n",
    "            sum += vaccine_numbers  \n",
    "        average_list.append((sum/(index+1), i))\n",
    "    average_list.sort(reverse=True)\n",
    "    \n",
    "    final_list = [average_list[i][1] for i in range(3)]\n",
    "\n",
    "    return final_list"
   ]
  },
  {
   "cell_type": "code",
   "execution_count": 29,
   "metadata": {},
   "outputs": [
    {
     "name": "stdout",
     "output_type": "stream",
     "text": [
      "['United States', 'China', 'India']\n"
     ]
    }
   ],
   "source": [
    "print(daily_vaccination(vaccine_list))"
   ]
  },
  {
   "cell_type": "code",
   "execution_count": 21,
   "metadata": {},
   "outputs": [
    {
     "name": "stdout",
     "output_type": "stream",
     "text": [
      "1466568.0\n"
     ]
    }
   ],
   "source": [
    "a = vaccine_list.loc[(vaccine_list[\"date\"] == \"1/6/2021\")]\n",
    "\"\"\"for number in a[\"daily_vaccinations\"]:\n",
    "    print(number)\n",
    "\"\"\"\n",
    "b =  a[\"daily_vaccinations\"].sum()\n",
    "print(b)"
   ]
  }
 ],
 "metadata": {
  "interpreter": {
   "hash": "f7291e4b392a32fbfa525b87d1bbd0a3d888adf3d0deca0c205c61b9e7284b82"
  },
  "kernelspec": {
   "display_name": "Python 3.6.5 64-bit",
   "language": "python",
   "name": "python3"
  },
  "language_info": {
   "codemirror_mode": {
    "name": "ipython",
    "version": 3
   },
   "file_extension": ".py",
   "mimetype": "text/x-python",
   "name": "python",
   "nbconvert_exporter": "python",
   "pygments_lexer": "ipython3",
   "version": "3.6.5"
  },
  "orig_nbformat": 4
 },
 "nbformat": 4,
 "nbformat_minor": 2
}
